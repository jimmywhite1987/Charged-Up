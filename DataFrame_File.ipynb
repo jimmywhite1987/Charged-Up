{
 "cells": [
  {
   "cell_type": "code",
   "execution_count": 1,
   "id": "independent-solid",
   "metadata": {
    "collapsed": true,
    "deletable": true,
    "editable": true
   },
   "outputs": [],
   "source": [
    "import pandas as pd\n",
    "import operator\n",
    "import pymongo\n",
    "\n",
    "import numpy as np"
   ]
  },
  {
   "cell_type": "code",
   "execution_count": 2,
   "id": "interested-johnson",
   "metadata": {
    "collapsed": false,
    "deletable": true,
    "editable": true
   },
   "outputs": [],
   "source": [
    "conn = 'mongodb://localhost:27017'\n",
    "client = pymongo.MongoClient(conn)\n",
    "\n",
    "# Declare the database\n",
    "db = client.charged_up\n",
    "\n",
    "# Declare the collection\n",
    "charging_stations = db.charging_stations\n",
    "electric_vehicles = db.electric_vehicles\n",
    "\n"
   ]
  },
  {
   "cell_type": "code",
   "execution_count": 3,
   "id": "tutorial-implement",
   "metadata": {
    "collapsed": false,
    "deletable": true,
    "editable": true
   },
   "outputs": [
    {
     "data": {
      "text/plain": [
       "Collection(Database(MongoClient(host=['localhost:27017'], document_class=dict, tz_aware=False, connect=True), 'charged_up'), 'charging_stations')"
      ]
     },
     "execution_count": 3,
     "metadata": {},
     "output_type": "execute_result"
    }
   ],
   "source": [
    "charging_stations"
   ]
  },
  {
   "cell_type": "code",
   "execution_count": 4,
   "id": "lyric-idaho",
   "metadata": {
    "collapsed": true,
    "deletable": true,
    "editable": true
   },
   "outputs": [],
   "source": [
    "rows = [row for row in charging_stations.find()]"
   ]
  },
  {
   "cell_type": "code",
   "execution_count": 5,
   "id": "atomic-washer",
   "metadata": {
    "collapsed": false,
    "deletable": true,
    "editable": true,
    "scrolled": true
   },
   "outputs": [
    {
     "data": {
      "text/plain": [
       "'South Korea'"
      ]
     },
     "execution_count": 5,
     "metadata": {},
     "output_type": "execute_result"
    }
   ],
   "source": [
    "rows[1]['address']['country']"
   ]
  },
  {
   "cell_type": "code",
   "execution_count": 6,
   "id": "acceptable-green",
   "metadata": {
    "collapsed": false,
    "deletable": true,
    "editable": true
   },
   "outputs": [
    {
     "data": {
      "text/html": [
       "<div>\n",
       "<style scoped>\n",
       "    .dataframe tbody tr th:only-of-type {\n",
       "        vertical-align: middle;\n",
       "    }\n",
       "\n",
       "    .dataframe tbody tr th {\n",
       "        vertical-align: top;\n",
       "    }\n",
       "\n",
       "    .dataframe thead th {\n",
       "        text-align: right;\n",
       "    }\n",
       "</style>\n",
       "<table border=\"1\" class=\"dataframe\">\n",
       "  <thead>\n",
       "    <tr style=\"text-align: right;\">\n",
       "      <th></th>\n",
       "      <th>City</th>\n",
       "      <th>Charging Stations</th>\n",
       "    </tr>\n",
       "  </thead>\n",
       "  <tbody>\n",
       "    <tr>\n",
       "      <th>953</th>\n",
       "      <td>San Jose</td>\n",
       "      <td>9</td>\n",
       "    </tr>\n",
       "    <tr>\n",
       "      <th>952</th>\n",
       "      <td>San Diego</td>\n",
       "      <td>8</td>\n",
       "    </tr>\n",
       "    <tr>\n",
       "      <th>951</th>\n",
       "      <td>Madison</td>\n",
       "      <td>8</td>\n",
       "    </tr>\n",
       "    <tr>\n",
       "      <th>950</th>\n",
       "      <td>Chicago</td>\n",
       "      <td>7</td>\n",
       "    </tr>\n",
       "    <tr>\n",
       "      <th>949</th>\n",
       "      <td>Las Vegas</td>\n",
       "      <td>7</td>\n",
       "    </tr>\n",
       "    <tr>\n",
       "      <th>948</th>\n",
       "      <td>Miami</td>\n",
       "      <td>6</td>\n",
       "    </tr>\n",
       "    <tr>\n",
       "      <th>945</th>\n",
       "      <td>Richmond</td>\n",
       "      <td>5</td>\n",
       "    </tr>\n",
       "    <tr>\n",
       "      <th>946</th>\n",
       "      <td>Springfield</td>\n",
       "      <td>5</td>\n",
       "    </tr>\n",
       "    <tr>\n",
       "      <th>947</th>\n",
       "      <td>Los Angeles</td>\n",
       "      <td>5</td>\n",
       "    </tr>\n",
       "    <tr>\n",
       "      <th>936</th>\n",
       "      <td>Sacramento</td>\n",
       "      <td>4</td>\n",
       "    </tr>\n",
       "  </tbody>\n",
       "</table>\n",
       "</div>"
      ],
      "text/plain": [
       "            City Charging Stations\n",
       "953     San Jose                 9\n",
       "952    San Diego                 8\n",
       "951      Madison                 8\n",
       "950      Chicago                 7\n",
       "949    Las Vegas                 7\n",
       "948        Miami                 6\n",
       "945     Richmond                 5\n",
       "946  Springfield                 5\n",
       "947  Los Angeles                 5\n",
       "936   Sacramento                 4"
      ]
     },
     "execution_count": 6,
     "metadata": {},
     "output_type": "execute_result"
    }
   ],
   "source": [
    "count = 1\n",
    "stations = []\n",
    "country = []\n",
    "city = {}\n",
    "\n",
    "for k,row in enumerate(charging_stations.find()):\n",
    "      #print(row)\n",
    "            if row['address']['country'] == 'USA':\n",
    "                #stations.append({count:row})\n",
    "                \n",
    "                temp_total_count = 0   \n",
    "                if row['address']['city'] in city:                \n",
    "                    \n",
    "                    #print(row['address']['city'])\n",
    "                    \n",
    "                    temp_total_count = int(city[row['address']['city']])\n",
    "\n",
    "                    temp_total_count += 1\n",
    "\n",
    "                    city[row['address']['city']] = str(temp_total_count)\n",
    "                else:\n",
    "                    city[row['address']['city']] = \"1\"\n",
    "\n",
    "sorted_US_data = sorted(city.items(), key=operator.itemgetter(1))\n",
    "city_df = pd.DataFrame(sorted_US_data).rename(columns={0:'City',1:'Charging Stations'})\\\n",
    "            .sort_values('Charging Stations',ascending=False)\n",
    "city_df.head(10)"
   ]
  },
  {
   "cell_type": "code",
   "execution_count": 9,
   "id": "widespread-phone",
   "metadata": {
    "collapsed": false
   },
   "outputs": [
    {
     "data": {
      "text/html": [
       "<div>\n",
       "<style scoped>\n",
       "    .dataframe tbody tr th:only-of-type {\n",
       "        vertical-align: middle;\n",
       "    }\n",
       "\n",
       "    .dataframe tbody tr th {\n",
       "        vertical-align: top;\n",
       "    }\n",
       "\n",
       "    .dataframe thead th {\n",
       "        text-align: right;\n",
       "    }\n",
       "</style>\n",
       "<table border=\"1\" class=\"dataframe\">\n",
       "  <thead>\n",
       "    <tr style=\"text-align: right;\">\n",
       "      <th></th>\n",
       "      <th>_id</th>\n",
       "      <th>Brand</th>\n",
       "      <th>Model</th>\n",
       "      <th>AccelSec</th>\n",
       "      <th>TopSpeed_KmH</th>\n",
       "      <th>Range_Km</th>\n",
       "      <th>Efficiency_WhKm</th>\n",
       "      <th>FastCharge_KmH</th>\n",
       "      <th>RapidCharge</th>\n",
       "      <th>PowerTrain</th>\n",
       "      <th>PlugType</th>\n",
       "      <th>BodyStyle</th>\n",
       "      <th>Segment</th>\n",
       "      <th>Seats</th>\n",
       "      <th>PriceEuro</th>\n",
       "    </tr>\n",
       "  </thead>\n",
       "  <tbody>\n",
       "    <tr>\n",
       "      <th>0</th>\n",
       "      <td>608b1bf0f0b6cb6008526909</td>\n",
       "      <td>Tesla</td>\n",
       "      <td>Model 3 Long Range Dual Motor</td>\n",
       "      <td>4</td>\n",
       "      <td>233</td>\n",
       "      <td>450</td>\n",
       "      <td>161</td>\n",
       "      <td>940.0</td>\n",
       "      <td>Yes</td>\n",
       "      <td>AWD</td>\n",
       "      <td>Type 2 CCS</td>\n",
       "      <td>Sedan</td>\n",
       "      <td>D</td>\n",
       "      <td>5</td>\n",
       "      <td>55480</td>\n",
       "    </tr>\n",
       "    <tr>\n",
       "      <th>1</th>\n",
       "      <td>608b1bf0f0b6cb600852690a</td>\n",
       "      <td>Volkswagen</td>\n",
       "      <td>ID.3 Pure</td>\n",
       "      <td>10</td>\n",
       "      <td>160</td>\n",
       "      <td>270</td>\n",
       "      <td>167</td>\n",
       "      <td>250.0</td>\n",
       "      <td>Yes</td>\n",
       "      <td>RWD</td>\n",
       "      <td>Type 2 CCS</td>\n",
       "      <td>Hatchback</td>\n",
       "      <td>C</td>\n",
       "      <td>5</td>\n",
       "      <td>30000</td>\n",
       "    </tr>\n",
       "    <tr>\n",
       "      <th>2</th>\n",
       "      <td>608b1bf0f0b6cb600852690b</td>\n",
       "      <td>Polestar</td>\n",
       "      <td>2</td>\n",
       "      <td>4</td>\n",
       "      <td>210</td>\n",
       "      <td>400</td>\n",
       "      <td>181</td>\n",
       "      <td>620.0</td>\n",
       "      <td>Yes</td>\n",
       "      <td>AWD</td>\n",
       "      <td>Type 2 CCS</td>\n",
       "      <td>Liftback</td>\n",
       "      <td>D</td>\n",
       "      <td>5</td>\n",
       "      <td>56440</td>\n",
       "    </tr>\n",
       "    <tr>\n",
       "      <th>3</th>\n",
       "      <td>608b1bf0f0b6cb600852690c</td>\n",
       "      <td>BMW</td>\n",
       "      <td>iX3</td>\n",
       "      <td>6</td>\n",
       "      <td>180</td>\n",
       "      <td>360</td>\n",
       "      <td>206</td>\n",
       "      <td>560.0</td>\n",
       "      <td>Yes</td>\n",
       "      <td>RWD</td>\n",
       "      <td>Type 2 CCS</td>\n",
       "      <td>SUV</td>\n",
       "      <td>D</td>\n",
       "      <td>5</td>\n",
       "      <td>68040</td>\n",
       "    </tr>\n",
       "    <tr>\n",
       "      <th>4</th>\n",
       "      <td>608b1bf0f0b6cb600852690d</td>\n",
       "      <td>Honda</td>\n",
       "      <td>e</td>\n",
       "      <td>9</td>\n",
       "      <td>145</td>\n",
       "      <td>170</td>\n",
       "      <td>168</td>\n",
       "      <td>190.0</td>\n",
       "      <td>Yes</td>\n",
       "      <td>RWD</td>\n",
       "      <td>Type 2 CCS</td>\n",
       "      <td>Hatchback</td>\n",
       "      <td>B</td>\n",
       "      <td>4</td>\n",
       "      <td>32997</td>\n",
       "    </tr>\n",
       "  </tbody>\n",
       "</table>\n",
       "</div>"
      ],
      "text/plain": [
       "                        _id        Brand                          Model  \\\n",
       "0  608b1bf0f0b6cb6008526909       Tesla   Model 3 Long Range Dual Motor   \n",
       "1  608b1bf0f0b6cb600852690a  Volkswagen                       ID.3 Pure   \n",
       "2  608b1bf0f0b6cb600852690b    Polestar                               2   \n",
       "3  608b1bf0f0b6cb600852690c         BMW                            iX3    \n",
       "4  608b1bf0f0b6cb600852690d       Honda                              e    \n",
       "\n",
       "   AccelSec  TopSpeed_KmH  Range_Km  Efficiency_WhKm  FastCharge_KmH  \\\n",
       "0         4           233       450              161           940.0   \n",
       "1        10           160       270              167           250.0   \n",
       "2         4           210       400              181           620.0   \n",
       "3         6           180       360              206           560.0   \n",
       "4         9           145       170              168           190.0   \n",
       "\n",
       "  RapidCharge PowerTrain    PlugType  BodyStyle Segment  Seats  PriceEuro  \n",
       "0         Yes        AWD  Type 2 CCS      Sedan       D      5      55480  \n",
       "1         Yes        RWD  Type 2 CCS  Hatchback       C      5      30000  \n",
       "2         Yes        AWD  Type 2 CCS   Liftback       D      5      56440  \n",
       "3         Yes        RWD  Type 2 CCS        SUV       D      5      68040  \n",
       "4         Yes        RWD  Type 2 CCS  Hatchback       B      4      32997  "
      ]
     },
     "execution_count": 9,
     "metadata": {},
     "output_type": "execute_result"
    }
   ],
   "source": [
    "elect_df = pd.DataFrame([row for row in electric_vehicles.find()])\n",
    "elect_df.head()"
   ]
  },
  {
   "cell_type": "code",
   "execution_count": 10,
   "id": "functioning-yesterday",
   "metadata": {
    "collapsed": false
   },
   "outputs": [
    {
     "data": {
      "text/plain": [
       "Index(['_id', 'Brand', 'Model', 'AccelSec', 'TopSpeed_KmH', 'Range_Km',\n",
       "       'Efficiency_WhKm', 'FastCharge_KmH', 'RapidCharge', 'PowerTrain',\n",
       "       'PlugType', 'BodyStyle', 'Segment', 'Seats', 'PriceEuro'],\n",
       "      dtype='object')"
      ]
     },
     "execution_count": 10,
     "metadata": {},
     "output_type": "execute_result"
    }
   ],
   "source": [
    "elect_df.keys()"
   ]
  },
  {
   "cell_type": "code",
   "execution_count": 12,
   "id": "impressive-thickness",
   "metadata": {
    "collapsed": false
   },
   "outputs": [],
   "source": [
    "grp = elect_df.groupby('Model')[['PriceEuro','TopSpeed_KmH','Range_Km']]"
   ]
  },
  {
   "cell_type": "markdown",
   "id": "otherwise-hello",
   "metadata": {},
   "source": [
    "### 5 Most Expensive"
   ]
  },
  {
   "cell_type": "code",
   "execution_count": 17,
   "id": "equipped-trout",
   "metadata": {
    "collapsed": false
   },
   "outputs": [
    {
     "data": {
      "text/html": [
       "<div>\n",
       "<style scoped>\n",
       "    .dataframe tbody tr th:only-of-type {\n",
       "        vertical-align: middle;\n",
       "    }\n",
       "\n",
       "    .dataframe tbody tr th {\n",
       "        vertical-align: top;\n",
       "    }\n",
       "\n",
       "    .dataframe thead th {\n",
       "        text-align: right;\n",
       "    }\n",
       "</style>\n",
       "<table border=\"1\" class=\"dataframe\">\n",
       "  <thead>\n",
       "    <tr style=\"text-align: right;\">\n",
       "      <th></th>\n",
       "      <th>PriceEuro</th>\n",
       "      <th>TopSpeed_KmH</th>\n",
       "      <th>Range_Km</th>\n",
       "    </tr>\n",
       "    <tr>\n",
       "      <th>Model</th>\n",
       "      <th></th>\n",
       "      <th></th>\n",
       "      <th></th>\n",
       "    </tr>\n",
       "  </thead>\n",
       "  <tbody>\n",
       "    <tr>\n",
       "      <th>Roadster</th>\n",
       "      <td>215000</td>\n",
       "      <td>410</td>\n",
       "      <td>970</td>\n",
       "    </tr>\n",
       "    <tr>\n",
       "      <th>Taycan Turbo S</th>\n",
       "      <td>180781</td>\n",
       "      <td>260</td>\n",
       "      <td>375</td>\n",
       "    </tr>\n",
       "    <tr>\n",
       "      <th>Taycan Cross Turismo</th>\n",
       "      <td>150000</td>\n",
       "      <td>250</td>\n",
       "      <td>385</td>\n",
       "    </tr>\n",
       "    <tr>\n",
       "      <th>One</th>\n",
       "      <td>149000</td>\n",
       "      <td>150</td>\n",
       "      <td>575</td>\n",
       "    </tr>\n",
       "    <tr>\n",
       "      <th>Taycan Turbo</th>\n",
       "      <td>148301</td>\n",
       "      <td>260</td>\n",
       "      <td>390</td>\n",
       "    </tr>\n",
       "  </tbody>\n",
       "</table>\n",
       "</div>"
      ],
      "text/plain": [
       "                       PriceEuro  TopSpeed_KmH  Range_Km\n",
       "Model                                                   \n",
       "Roadster                  215000           410       970\n",
       "Taycan Turbo S            180781           260       375\n",
       "Taycan Cross Turismo      150000           250       385\n",
       "One                       149000           150       575\n",
       "Taycan Turbo              148301           260       390"
      ]
     },
     "execution_count": 17,
     "metadata": {},
     "output_type": "execute_result"
    }
   ],
   "source": [
    "grp.max().sort_values('PriceEuro',ascending=False).head()"
   ]
  },
  {
   "cell_type": "markdown",
   "id": "regional-acceptance",
   "metadata": {
    "deletable": true,
    "editable": true
   },
   "source": [
    "### 5 Fastest"
   ]
  },
  {
   "cell_type": "code",
   "execution_count": 18,
   "id": "arabic-accreditation",
   "metadata": {
    "collapsed": false,
    "deletable": true,
    "editable": true
   },
   "outputs": [
    {
     "data": {
      "text/html": [
       "<div>\n",
       "<style scoped>\n",
       "    .dataframe tbody tr th:only-of-type {\n",
       "        vertical-align: middle;\n",
       "    }\n",
       "\n",
       "    .dataframe tbody tr th {\n",
       "        vertical-align: top;\n",
       "    }\n",
       "\n",
       "    .dataframe thead th {\n",
       "        text-align: right;\n",
       "    }\n",
       "</style>\n",
       "<table border=\"1\" class=\"dataframe\">\n",
       "  <thead>\n",
       "    <tr style=\"text-align: right;\">\n",
       "      <th></th>\n",
       "      <th>PriceEuro</th>\n",
       "      <th>TopSpeed_KmH</th>\n",
       "      <th>Range_Km</th>\n",
       "    </tr>\n",
       "    <tr>\n",
       "      <th>Model</th>\n",
       "      <th></th>\n",
       "      <th></th>\n",
       "      <th></th>\n",
       "    </tr>\n",
       "  </thead>\n",
       "  <tbody>\n",
       "    <tr>\n",
       "      <th>Roadster</th>\n",
       "      <td>215000</td>\n",
       "      <td>410</td>\n",
       "      <td>970</td>\n",
       "    </tr>\n",
       "    <tr>\n",
       "      <th>Model 3 Long Range Performance</th>\n",
       "      <td>61480</td>\n",
       "      <td>261</td>\n",
       "      <td>435</td>\n",
       "    </tr>\n",
       "    <tr>\n",
       "      <th>Model S Performance</th>\n",
       "      <td>96990</td>\n",
       "      <td>261</td>\n",
       "      <td>505</td>\n",
       "    </tr>\n",
       "    <tr>\n",
       "      <th>Taycan Turbo S</th>\n",
       "      <td>180781</td>\n",
       "      <td>260</td>\n",
       "      <td>375</td>\n",
       "    </tr>\n",
       "    <tr>\n",
       "      <th>Taycan Turbo</th>\n",
       "      <td>148301</td>\n",
       "      <td>260</td>\n",
       "      <td>390</td>\n",
       "    </tr>\n",
       "  </tbody>\n",
       "</table>\n",
       "</div>"
      ],
      "text/plain": [
       "                                PriceEuro  TopSpeed_KmH  Range_Km\n",
       "Model                                                            \n",
       "Roadster                           215000           410       970\n",
       "Model 3 Long Range Performance      61480           261       435\n",
       "Model S Performance                 96990           261       505\n",
       "Taycan Turbo S                     180781           260       375\n",
       "Taycan Turbo                       148301           260       390"
      ]
     },
     "execution_count": 18,
     "metadata": {},
     "output_type": "execute_result"
    }
   ],
   "source": [
    "grp.max().sort_values('TopSpeed_KmH',ascending=False).head()"
   ]
  },
  {
   "cell_type": "markdown",
   "id": "spectacular-source",
   "metadata": {
    "deletable": true,
    "editable": true
   },
   "source": [
    "### 5 Top Range"
   ]
  },
  {
   "cell_type": "code",
   "execution_count": 19,
   "id": "wicked-peripheral",
   "metadata": {
    "collapsed": false,
    "deletable": true,
    "editable": true
   },
   "outputs": [
    {
     "data": {
      "text/html": [
       "<div>\n",
       "<style scoped>\n",
       "    .dataframe tbody tr th:only-of-type {\n",
       "        vertical-align: middle;\n",
       "    }\n",
       "\n",
       "    .dataframe tbody tr th {\n",
       "        vertical-align: top;\n",
       "    }\n",
       "\n",
       "    .dataframe thead th {\n",
       "        text-align: right;\n",
       "    }\n",
       "</style>\n",
       "<table border=\"1\" class=\"dataframe\">\n",
       "  <thead>\n",
       "    <tr style=\"text-align: right;\">\n",
       "      <th></th>\n",
       "      <th>PriceEuro</th>\n",
       "      <th>TopSpeed_KmH</th>\n",
       "      <th>Range_Km</th>\n",
       "    </tr>\n",
       "    <tr>\n",
       "      <th>Model</th>\n",
       "      <th></th>\n",
       "      <th></th>\n",
       "      <th></th>\n",
       "    </tr>\n",
       "  </thead>\n",
       "  <tbody>\n",
       "    <tr>\n",
       "      <th>Roadster</th>\n",
       "      <td>215000</td>\n",
       "      <td>410</td>\n",
       "      <td>970</td>\n",
       "    </tr>\n",
       "    <tr>\n",
       "      <th>Cybertruck Tri Motor</th>\n",
       "      <td>75000</td>\n",
       "      <td>210</td>\n",
       "      <td>750</td>\n",
       "    </tr>\n",
       "    <tr>\n",
       "      <th>Air</th>\n",
       "      <td>105000</td>\n",
       "      <td>250</td>\n",
       "      <td>610</td>\n",
       "    </tr>\n",
       "    <tr>\n",
       "      <th>One</th>\n",
       "      <td>149000</td>\n",
       "      <td>150</td>\n",
       "      <td>575</td>\n",
       "    </tr>\n",
       "    <tr>\n",
       "      <th>Model S Long Range</th>\n",
       "      <td>79990</td>\n",
       "      <td>250</td>\n",
       "      <td>515</td>\n",
       "    </tr>\n",
       "  </tbody>\n",
       "</table>\n",
       "</div>"
      ],
      "text/plain": [
       "                      PriceEuro  TopSpeed_KmH  Range_Km\n",
       "Model                                                  \n",
       "Roadster                 215000           410       970\n",
       "Cybertruck Tri Motor      75000           210       750\n",
       "Air                      105000           250       610\n",
       "One                      149000           150       575\n",
       "Model S Long Range        79990           250       515"
      ]
     },
     "execution_count": 19,
     "metadata": {},
     "output_type": "execute_result"
    }
   ],
   "source": [
    "grp.max().sort_values('Range_Km',ascending=False).head()"
   ]
  },
  {
   "cell_type": "code",
   "execution_count": null,
   "id": "creative-reconstruction",
   "metadata": {
    "collapsed": true
   },
   "outputs": [],
   "source": []
  }
 ],
 "metadata": {
  "kernelspec": {
   "display_name": "Python 3",
   "language": "python",
   "name": "python3"
  },
  "language_info": {
   "codemirror_mode": {
    "name": "ipython",
    "version": 3
   },
   "file_extension": ".py",
   "mimetype": "text/x-python",
   "name": "python",
   "nbconvert_exporter": "python",
   "pygments_lexer": "ipython3",
   "version": "3.6.10"
  }
 },
 "nbformat": 4,
 "nbformat_minor": 5
}
