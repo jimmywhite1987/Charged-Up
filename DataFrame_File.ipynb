{
 "cells": [
  {
   "cell_type": "code",
   "execution_count": 2,
   "id": "racial-phrase",
   "metadata": {},
   "outputs": [],
   "source": [
    "import pandas as pd\n",
    "import operator\n",
    "import pymongo\n",
    "import matplotlib.pyplot as plt\n",
    "\n",
    "import numpy as np"
   ]
  },
  {
   "cell_type": "code",
   "execution_count": 3,
   "id": "massive-allergy",
   "metadata": {},
   "outputs": [],
   "source": [
    "conn = 'mongodb://localhost:27017'\n",
    "client = pymongo.MongoClient(conn)\n",
    "\n",
    "# Declare the database\n",
    "db = client.charged_up\n",
    "\n",
    "# Declare the collection\n",
    "charging_stations = db.charging_stations\n",
    "electric_vehicles = db.electric_vehicles\n",
    "\n"
   ]
  },
  {
   "cell_type": "code",
   "execution_count": 4,
   "id": "operating-sheet",
   "metadata": {},
   "outputs": [
    {
     "data": {
      "text/plain": [
       "Collection(Database(MongoClient(host=['localhost:27017'], document_class=dict, tz_aware=False, connect=True), 'charged_up'), 'charging_stations')"
      ]
     },
     "execution_count": 4,
     "metadata": {},
     "output_type": "execute_result"
    }
   ],
   "source": [
    "charging_stations"
   ]
  },
  {
   "cell_type": "code",
   "execution_count": 23,
   "id": "funny-power",
   "metadata": {},
   "outputs": [],
   "source": [
    "rows = [row for row in charging_stations.find()]"
   ]
  },
  {
   "cell_type": "code",
   "execution_count": 6,
   "id": "signed-mentor",
   "metadata": {
    "scrolled": true
   },
   "outputs": [
    {
     "data": {
      "text/plain": [
       "'South Korea'"
      ]
     },
     "execution_count": 6,
     "metadata": {},
     "output_type": "execute_result"
    }
   ],
   "source": [
    "rows[1]['address']['country']"
   ]
  },
  {
   "cell_type": "code",
   "execution_count": 78,
   "id": "international-african",
   "metadata": {},
   "outputs": [],
   "source": [
    "count = 1\n",
    "stations = []\n",
    "country = []\n",
    "city = {}\n",
    "\n",
    "for k,row in enumerate(charging_stations.find()):\n",
    "      #print(row)\n",
    "            if row['address']['country'] == 'USA':\n",
    "                #stations.append({count:row})\n",
    "                \n",
    "                temp_total_count = 0   \n",
    "                if row['address']['city'] in city:                \n",
    "                    \n",
    "                    #print(row['address']['city'])\n",
    "                    \n",
    "                    temp_total_count = int(city[row['address']['city']])\n",
    "\n",
    "                    temp_total_count += 1\n",
    "\n",
    "                    city[row['address']['city']] = str(temp_total_count)\n",
    "                else:\n",
    "                    city[row['address']['city']] = \"1\"\n",
    "\n",
    "sorted_US_data = sorted(city.items(), key=operator.itemgetter(1))\n",
    "city_df = pd.DataFrame(sorted_US_data).rename(columns={0:'City',1:'Charging Stations'})\\\n",
    "            .sort_values('Charging Stations',ascending=False)\n",
    "city_df.head(10)\n",
    "city_df.to_html('Data_Frames/city.html')"
   ]
  },
  {
   "cell_type": "code",
   "execution_count": 49,
   "id": "speaking-digest",
   "metadata": {},
   "outputs": [],
   "source": [
    "state_df['Charging Stations'] = state_df['Charging Stations'].astype('int')"
   ]
  },
  {
   "cell_type": "code",
   "execution_count": 77,
   "id": "defined-trail",
   "metadata": {},
   "outputs": [],
   "source": [
    "state_df.sort_values('Charging Stations',ascending=True)\n",
    "state_df.to_html('Data_Frames/state.html')"
   ]
  },
  {
   "cell_type": "code",
   "execution_count": 54,
   "id": "quiet-williams",
   "metadata": {},
   "outputs": [],
   "source": [
    "x_axis = np.arange(len(state_df))\n",
    "tick_locations = [value for value in x_axis]"
   ]
  },
  {
   "cell_type": "code",
   "execution_count": 58,
   "id": "vietnamese-general",
   "metadata": {},
   "outputs": [
    {
     "data": {
      "image/png": "[encoded data removed]",
      "text/plain": [
       "<Figure size 1440x216 with 1 Axes>"
      ]
     },
     "metadata": {
      "needs_background": "light"
     },
     "output_type": "display_data"
    }
   ],
   "source": [
    "plt.figure(figsize=(20,3))\n",
    "plt.bar(x_axis, state_df[\"Charging Stations\"], color='g', alpha=0.5, align=\"center\")\n",
    "plt.xticks(tick_locations, state_df[\"State\"], rotation=\"vertical\")\n",
    "plt.title(\"Charging Stations per State\")\n",
    "plt.xlabel(\"State\")\n",
    "plt.ylabel(\"# of Charging Stations\")\n",
    "plt.savefig(\"Images/Charging_stations_state.png\")"
   ]
  },
  {
   "cell_type": "code",
   "execution_count": 8,
   "id": "blank-hawaii",
   "metadata": {},
   "outputs": [
    {
     "data": {
      "text/html": [
       "<div>\n",
       "<style scoped>\n",
       "    .dataframe tbody tr th:only-of-type {\n",
       "        vertical-align: middle;\n",
       "    }\n",
       "\n",
       "    .dataframe tbody tr th {\n",
       "        vertical-align: top;\n",
       "    }\n",
       "\n",
       "    .dataframe thead th {\n",
       "        text-align: right;\n",
       "    }\n",
       "</style>\n",
       "<table border=\"1\" class=\"dataframe\">\n",
       "  <thead>\n",
       "    <tr style=\"text-align: right;\">\n",
       "      <th></th>\n",
       "      <th>_id</th>\n",
       "      <th>Brand</th>\n",
       "      <th>Model</th>\n",
       "      <th>AccelSec</th>\n",
       "      <th>TopSpeed_KmH</th>\n",
       "      <th>Range_Km</th>\n",
       "      <th>Efficiency_WhKm</th>\n",
       "      <th>FastCharge_KmH</th>\n",
       "      <th>RapidCharge</th>\n",
       "      <th>PowerTrain</th>\n",
       "      <th>PlugType</th>\n",
       "      <th>BodyStyle</th>\n",
       "      <th>Segment</th>\n",
       "      <th>Seats</th>\n",
       "      <th>PriceEuro</th>\n",
       "    </tr>\n",
       "  </thead>\n",
       "  <tbody>\n",
       "    <tr>\n",
       "      <th>0</th>\n",
       "      <td>608749bcf2e84859ec95aa07</td>\n",
       "      <td>Tesla</td>\n",
       "      <td>Model 3 Long Range Dual Motor</td>\n",
       "      <td>4</td>\n",
       "      <td>233</td>\n",
       "      <td>450</td>\n",
       "      <td>161</td>\n",
       "      <td>940.0</td>\n",
       "      <td>Yes</td>\n",
       "      <td>AWD</td>\n",
       "      <td>Type 2 CCS</td>\n",
       "      <td>Sedan</td>\n",
       "      <td>D</td>\n",
       "      <td>5</td>\n",
       "      <td>66576.0</td>\n",
       "    </tr>\n",
       "    <tr>\n",
       "      <th>1</th>\n",
       "      <td>608749bcf2e84859ec95aa08</td>\n",
       "      <td>Volkswagen</td>\n",
       "      <td>ID.3 Pure</td>\n",
       "      <td>10</td>\n",
       "      <td>160</td>\n",
       "      <td>270</td>\n",
       "      <td>167</td>\n",
       "      <td>250.0</td>\n",
       "      <td>Yes</td>\n",
       "      <td>RWD</td>\n",
       "      <td>Type 2 CCS</td>\n",
       "      <td>Hatchback</td>\n",
       "      <td>C</td>\n",
       "      <td>5</td>\n",
       "      <td>36000.0</td>\n",
       "    </tr>\n",
       "    <tr>\n",
       "      <th>2</th>\n",
       "      <td>608749bcf2e84859ec95aa09</td>\n",
       "      <td>Polestar</td>\n",
       "      <td>2</td>\n",
       "      <td>4</td>\n",
       "      <td>210</td>\n",
       "      <td>400</td>\n",
       "      <td>181</td>\n",
       "      <td>620.0</td>\n",
       "      <td>Yes</td>\n",
       "      <td>AWD</td>\n",
       "      <td>Type 2 CCS</td>\n",
       "      <td>Liftback</td>\n",
       "      <td>D</td>\n",
       "      <td>5</td>\n",
       "      <td>67728.0</td>\n",
       "    </tr>\n",
       "    <tr>\n",
       "      <th>3</th>\n",
       "      <td>608749bcf2e84859ec95aa0a</td>\n",
       "      <td>BMW</td>\n",
       "      <td>iX3</td>\n",
       "      <td>6</td>\n",
       "      <td>180</td>\n",
       "      <td>360</td>\n",
       "      <td>206</td>\n",
       "      <td>560.0</td>\n",
       "      <td>Yes</td>\n",
       "      <td>RWD</td>\n",
       "      <td>Type 2 CCS</td>\n",
       "      <td>SUV</td>\n",
       "      <td>D</td>\n",
       "      <td>5</td>\n",
       "      <td>81648.0</td>\n",
       "    </tr>\n",
       "    <tr>\n",
       "      <th>4</th>\n",
       "      <td>608749bcf2e84859ec95aa0b</td>\n",
       "      <td>Honda</td>\n",
       "      <td>e</td>\n",
       "      <td>9</td>\n",
       "      <td>145</td>\n",
       "      <td>170</td>\n",
       "      <td>168</td>\n",
       "      <td>190.0</td>\n",
       "      <td>Yes</td>\n",
       "      <td>RWD</td>\n",
       "      <td>Type 2 CCS</td>\n",
       "      <td>Hatchback</td>\n",
       "      <td>B</td>\n",
       "      <td>4</td>\n",
       "      <td>39596.4</td>\n",
       "    </tr>\n",
       "  </tbody>\n",
       "</table>\n",
       "</div>"
      ],
      "text/plain": [
       "                        _id        Brand                          Model  \\\n",
       "0  608749bcf2e84859ec95aa07       Tesla   Model 3 Long Range Dual Motor   \n",
       "1  608749bcf2e84859ec95aa08  Volkswagen                       ID.3 Pure   \n",
       "2  608749bcf2e84859ec95aa09    Polestar                               2   \n",
       "3  608749bcf2e84859ec95aa0a         BMW                            iX3    \n",
       "4  608749bcf2e84859ec95aa0b       Honda                              e    \n",
       "\n",
       "   AccelSec  TopSpeed_KmH  Range_Km  Efficiency_WhKm  FastCharge_KmH  \\\n",
       "0         4           233       450              161           940.0   \n",
       "1        10           160       270              167           250.0   \n",
       "2         4           210       400              181           620.0   \n",
       "3         6           180       360              206           560.0   \n",
       "4         9           145       170              168           190.0   \n",
       "\n",
       "  RapidCharge PowerTrain    PlugType  BodyStyle Segment  Seats  PriceEuro  \n",
       "0         Yes        AWD  Type 2 CCS      Sedan       D      5    66576.0  \n",
       "1         Yes        RWD  Type 2 CCS  Hatchback       C      5    36000.0  \n",
       "2         Yes        AWD  Type 2 CCS   Liftback       D      5    67728.0  \n",
       "3         Yes        RWD  Type 2 CCS        SUV       D      5    81648.0  \n",
       "4         Yes        RWD  Type 2 CCS  Hatchback       B      4    39596.4  "
      ]
     },
     "execution_count": 8,
     "metadata": {},
     "output_type": "execute_result"
    }
   ],
   "source": [
    "elect_df = pd.DataFrame([row for row in electric_vehicles.find()])\n",
    "elect_df.PriceEuro = 1.20*elect_df.PriceEuro\n",
    "elect_df.head()"
   ]
  },
  {
   "cell_type": "code",
   "execution_count": 76,
   "id": "moral-sussex",
   "metadata": {},
   "outputs": [],
   "source": [
    "clean_ev = elect_df.rename(columns={\"PriceEuro\": \"PriceUSD\"})\n",
    "clean_ev = clean_ev.drop(columns=['_id'])\n",
    "clean_ev.head()\n",
    "clean_ev.to_html('Data_Frames/EV.html')"
   ]
  },
  {
   "cell_type": "code",
   "execution_count": 10,
   "id": "mental-massage",
   "metadata": {},
   "outputs": [
    {
     "data": {
      "text/plain": [
       "Index(['_id', 'Brand', 'Model', 'AccelSec', 'TopSpeed_KmH', 'Range_Km',\n",
       "       'Efficiency_WhKm', 'FastCharge_KmH', 'RapidCharge', 'PowerTrain',\n",
       "       'PlugType', 'BodyStyle', 'Segment', 'Seats', 'PriceEuro'],\n",
       "      dtype='object')"
      ]
     },
     "execution_count": 10,
     "metadata": {},
     "output_type": "execute_result"
    }
   ],
   "source": [
    "elect_df.keys()"
   ]
  },
  {
   "cell_type": "code",
   "execution_count": 11,
   "id": "prostate-theta",
   "metadata": {},
   "outputs": [],
   "source": [
    "grp = clean_ev.groupby('Model')[['PriceUSD','TopSpeed_KmH','Range_Km']]"
   ]
  },
  {
   "cell_type": "markdown",
   "id": "antique-motorcycle",
   "metadata": {},
   "source": [
    "# 20 Most Expensive"
   ]
  },
  {
   "cell_type": "code",
   "execution_count": 71,
   "id": "threatened-growing",
   "metadata": {},
   "outputs": [],
   "source": [
    "most_expensive = grp.max().sort_values('PriceUSD',ascending=False).head(20)\n",
    "most_expensive.to_html('Data_Frames/most_expensive.html')"
   ]
  },
  {
   "cell_type": "code",
   "execution_count": 73,
   "id": "behavioral-platform",
   "metadata": {},
   "outputs": [],
   "source": [
    "least_exp = grp.max().sort_values('PriceUSD',ascending=True).head(20)\n",
    "least_exp.to_html('Data_Frames/least_exp.html')"
   ]
  },
  {
   "cell_type": "markdown",
   "id": "refined-exhibit",
   "metadata": {},
   "source": [
    "### 5 Fastest"
   ]
  },
  {
   "cell_type": "code",
   "execution_count": 69,
   "id": "immune-fraction",
   "metadata": {},
   "outputs": [],
   "source": [
    "fastest_df = grp.max().sort_values('TopSpeed_KmH',ascending=False).head()\n",
    "fastest_df.to_html('Data_Frames/Fastest.html')"
   ]
  },
  {
   "cell_type": "markdown",
   "id": "raised-envelope",
   "metadata": {},
   "source": [
    "### 30 Top Range"
   ]
  },
  {
   "cell_type": "code",
   "execution_count": 75,
   "id": "warming-serum",
   "metadata": {},
   "outputs": [],
   "source": [
    "range_df = grp.max().sort_values('Range_Km',ascending=False).head(30)\n",
    "range_df.to_html('Data_Frames/range.html')"
   ]
  },
  {
   "cell_type": "code",
   "execution_count": 64,
   "id": "classical-rapid",
   "metadata": {},
   "outputs": [],
   "source": [
    "x_axis = np.arange(len(range_df))\n",
    "tick_locations = [value for value in x_axis]"
   ]
  },
  {
   "cell_type": "code",
   "execution_count": 66,
   "id": "interracial-wholesale",
   "metadata": {},
   "outputs": [
    {
     "data": {
      "image/png": "[encoded data removed]",
      "text/plain": [
       "<Figure size 1440x216 with 1 Axes>"
      ]
     },
     "metadata": {
      "needs_background": "light"
     },
     "output_type": "display_data"
    }
   ],
   "source": [
    "plt.figure(figsize=(20,3))\n",
    "plt.bar(x_axis, range_df[\"Range_Km\"], color='g', alpha=0.5, align=\"center\")\n",
    "plt.xticks(tick_locations, range_df.index, rotation=\"vertical\")\n",
    "plt.title(\"Range Per Model\")\n",
    "plt.xlabel(\"Model\")\n",
    "plt.ylabel(\"Range_Km\")\n",
    "plt.savefig(\"Images/Range_Per_Model.png\")"
   ]
  },
  {
   "cell_type": "code",
   "execution_count": null,
   "id": "prescription-remains",
   "metadata": {},
   "outputs": [],
   "source": []
  }
 ],
 "metadata": {
  "kernelspec": {
   "display_name": "PythonData",
   "language": "python",
   "name": "pythondata"
  },
  "language_info": {
   "codemirror_mode": {
    "name": "ipython",
    "version": 3
   },
   "file_extension": ".py",
   "mimetype": "text/x-python",
   "name": "python",
   "nbconvert_exporter": "python",
   "pygments_lexer": "ipython3",
   "version": "3.6.10"
  }
 },
 "nbformat": 4,
 "nbformat_minor": 5
}
